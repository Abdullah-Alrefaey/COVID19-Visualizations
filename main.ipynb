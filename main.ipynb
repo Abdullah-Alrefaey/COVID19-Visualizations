{
 "cells": [
  {
   "cell_type": "code",
   "execution_count": 1,
   "metadata": {},
   "outputs": [],
   "source": [
    "%config IPCompleter.greedy=True"
   ]
  },
  {
   "cell_type": "code",
   "execution_count": 2,
   "metadata": {
    "pycharm": {
     "name": "#%%\n"
    }
   },
   "outputs": [],
   "source": [
    "import plotly\n",
    "import plotly.graph_objs as go\n",
    "import plotly.express as px\n",
    "from IPython.display import display, clear_output\n",
    "import ipywidgets as widgets\n",
    "import pandas as pd"
   ]
  },
  {
   "cell_type": "code",
   "execution_count": 3,
   "metadata": {
    "pycharm": {
     "name": "#%%\n"
    }
   },
   "outputs": [],
   "source": [
    "cData = pd.read_csv('COVID-19-Data/aggregated_sorted_totall.csv')"
   ]
  },
  {
   "cell_type": "code",
   "execution_count": 4,
   "metadata": {
    "pycharm": {
     "name": "#%%\n"
    }
   },
   "outputs": [],
   "source": [
    "# Main GUI\n",
    "# Create Figures Buttons\n",
    "title_label  = widgets.Label(value='Choose Visualization Mode')\n",
    "bubble_btn   = widgets.Button(description='Bubble')\n",
    "maps_btn     = widgets.Button(description='Maps')\n",
    "bar_btn      = widgets.Button(description='Bar')\n",
    "btns_container = widgets.VBox([title_label, widgets.HBox([bubble_btn, maps_btn, bar_btn])])\n",
    "outputFigure   = widgets.Output()\n",
    "bubbleFigure = px.scatter(cData, x=\"Deaths\",\n",
    "                                 y=\"Recovered\",\n",
    "                                 size=\"Confirmed\",\n",
    "                                 color=\"Country\",\n",
    "                                 animation_frame=\"Date\",\n",
    "                                 animation_group=\"Country\",\n",
    "                                 hover_name=\"Country\",\n",
    "                                 log_x=True,\n",
    "#                                  size_max=200,\n",
    "#                                  range_x=[1, 85000],\n",
    "#                                  range_y=[0, 250000]\n",
    "                         )\n",
    "\n",
    "mapsFigure = px.choropleth(cData, locations='Country',\n",
    "                                  locationmode='country names',\n",
    "                                  color='Confirmed',\n",
    "                                  color_continuous_scale=px.colors.sequential.Plasma,\n",
    "#                                   range_color=(0, 100),\n",
    "                                  labels={'Country':'Confirmed'},\n",
    "                                  hover_name='Country',\n",
    "                                  animation_frame=\"Date\",\n",
    "                                  animation_group=\"Country\")\n",
    "\n",
    "barFigure = px.bar(cData, x=\"Country\",\n",
    "                          y=\"Confirmed\",\n",
    "                          color='Country',\n",
    "                          animation_frame=\"Date\",\n",
    "                          animation_group=\"Country\")\n",
    "\n",
    "def generateBubbleGraph(_):\n",
    "    with outputFigure:\n",
    "        clear_output()\n",
    "        bubbleFigure.show()\n",
    "\n",
    "def generateMapsGraph(_):\n",
    "    with outputFigure:\n",
    "        clear_output()\n",
    "        mapsFigure.show()\n",
    "        \n",
    "def generateBarGraph(_):\n",
    "    with outputFigure:\n",
    "        clear_output()\n",
    "        barFigure.show()"
   ]
  },
  {
   "cell_type": "code",
   "execution_count": 6,
   "metadata": {},
   "outputs": [
    {
     "data": {
      "application/vnd.jupyter.widget-view+json": {
       "model_id": "a40bb1ef3feb47e1bdbc3fa913a92156",
       "version_major": 2,
       "version_minor": 0
      },
      "text/plain": [
       "VBox(children=(VBox(children=(Label(value='Choose Visualization Mode'), HBox(children=(Button(description='Bub…"
      ]
     },
     "metadata": {},
     "output_type": "display_data"
    }
   ],
   "source": [
    "# Buttons Handler \n",
    "bubble_btn.on_click(generateBubbleGraph)\n",
    "maps_btn.on_click(generateMapsGraph)\n",
    "bar_btn.on_click(generateBarGraph)\n",
    "widgets.VBox([btns_container, outputFigure])"
   ]
  },
  {
   "cell_type": "code",
   "execution_count": 11,
   "metadata": {},
   "outputs": [],
   "source": [
    "# modeButtons = widgets.ToggleButtons(\n",
    "#     options=['Bubble', 'Maps', 'Bar'],\n",
    "# #     description='View Mode:',\n",
    "#     disabled=False,\n",
    "#     button_style='info', # 'success', 'info', 'warning', 'danger' or ''\n",
    "#     tooltips=['Bubble Graph', 'Maps Graph', 'Bar Rank'],\n",
    "# )\n",
    "# modeButtons.observe(SelectDisplayMode, names='value')"
   ]
  },
  {
   "cell_type": "code",
   "execution_count": 6,
   "metadata": {},
   "outputs": [],
   "source": [
    "# def SelectDisplayMode(_):\n",
    "#     with outputFigure:\n",
    "#         clear_output()\n",
    "#         print('Hellooo')\n",
    "#         # Display Bubble Graph\n",
    "#         if (modeButtons.value == 'Bubble'):\n",
    "#             print(f'Mode: {modeButtons.value}')\n",
    "#             fig = px.scatter(cData, x=\"Deaths\", y=\"Recovered\", animation_frame=\"Date\", animation_group=\"Country\",\n",
    "#                        size=\"Confirmed\", color=\"Country\", hover_name=\"Country\",\n",
    "#                        log_x=True, size_max=55, range_x=[100,100000], range_y=[25,90])\n",
    "#             fig.show()\n",
    "#             plotly.offline.iplot(fig)\n",
    "#\n",
    "#         # Display Maps Graph\n",
    "#         if (modeButtons.value == 'Maps'):\n",
    "#             print(f'Mode: {modeButtons.value}')\n",
    "#             #initializing the data variable\n",
    "#             data = dict(type = 'choropleth',\n",
    "#                         locations = ['india','nepal','china','pakistan','Bangladesh','bhutan','myanmar','srilanka','egypt', 'turkey'],\n",
    "#                         locationmode = 'country names',\n",
    "#                         colorscale= 'Portland',\n",
    "#                         text= ['IND','NEP','CHI','PAK','BAN','BHU', 'MYN','SLK', 'EGY', 'TUR'],\n",
    "#                         z=[1.0,2.0,3.0,4.0,5.0,6.0,7.0,8.0,9.0,10.0],\n",
    "#                         colorbar = {'title':'Country Colours', 'len':200,'lenmode':'pixels' })\n",
    "#             col_map = go.Figure(data = [data])\n",
    "#             g = go.FigureWidget(col_map)\n",
    "#             g.show()\n",
    "#\n",
    "#         # Display Bar Rank Graph\n",
    "#         if (modeButtons.value == 'Bar'):\n",
    "#             print(f'Mode: {modeButtons.value}')\n",
    "#             fig = px.bar(cData, x=\"Country\", y=\"Confirmed\", color='Country',\n",
    "#                          animation_frame=\"Date\", animation_group=\"Country\")\n",
    "#             fig.show()"
   ]
  },
  {
   "cell_type": "code",
   "execution_count": null,
   "metadata": {},
   "outputs": [],
   "source": [
    "# def generateBubbleGraph(_):\n",
    "#     with outputFigure:\n",
    "#         clear_output()\n",
    "#         bubbleFigure.show()\n",
    "\n",
    "# #         fig = px.scatter(cData, x=\"Deaths\",\n",
    "# #                                 y=\"Recovered\",\n",
    "# #                                 size=\"Confirmed\",\n",
    "# #                                 color=\"Country\",\n",
    "# #                                 animation_frame=\"Date\",\n",
    "# #                                 animation_group=\"Country\",\n",
    "# #                                 hover_name=\"Country\",\n",
    "# #                                 size_max=30000)\n",
    "# #         fig.show()\n",
    "\n",
    "# def generateMapsGraph(_):\n",
    "#     with outputFigure:\n",
    "#         clear_output()\n",
    "#         mapsFigure.show()\n",
    "# #         fig = px.choropleth(cData, locations='Country',\n",
    "# #                                    locationmode='country names',\n",
    "# #                                    color='Confirmed',\n",
    "# #                                    color_continuous_scale=px.colors.sequential.Plasma,\n",
    "# #                                    labels={'Country':'Confirmed'},\n",
    "# #                                    hover_name='Country',\n",
    "# #                                    animation_frame=\"Date\",\n",
    "# #                                    animation_group=\"Country\")\n",
    "# #         fig.show()"
   ]
  }
 ],
 "metadata": {
  "kernelspec": {
   "display_name": "Python 3.7.4 64-bit",
   "language": "python",
   "name": "python37464bit137abc2606384d85aebc79a6f9d6ca87"
  },
  "language_info": {
   "codemirror_mode": {
    "name": "ipython",
    "version": 3
   },
   "file_extension": ".py",
   "mimetype": "text/x-python",
   "name": "python",
   "nbconvert_exporter": "python",
   "pygments_lexer": "ipython3",
   "version": "3.7.4"
  }
 },
 "nbformat": 4,
 "nbformat_minor": 1
}
