{
 "cells": [
  {
   "cell_type": "code",
   "execution_count": 1,
   "metadata": {
    "pycharm": {
     "name": "#%%\n"
    }
   },
   "outputs": [],
   "source": [
    "%config IPCompleter.greedy=True\n",
    "import plotly.express as px\n",
    "import plotly.graph_objects as go\n",
    "import ipywidgets as widgets\n",
    "from IPython.display import Image, clear_output\n",
    "import pandas as pd\n",
    "import numpy as np\n",
    "from PIL import Image\n",
    "from io import BytesIO\n",
    "import cv2\n",
    "import os\n",
    "import platform"
   ]
  },
  {
   "cell_type": "code",
   "execution_count": 2,
   "metadata": {
    "pycharm": {
     "name": "#%%\n"
    }
   },
   "outputs": [],
   "source": [
    "# Create results folder one time\n",
    "if not os.path.exists(\"results\"):\n",
    "    os.mkdir(\"results\")\n",
    "    \n",
    "# Include the .dll file in lib folder\n",
    "# Needed for creating and exporting the video using cv2\n",
    "libFolder = os.path.abspath('lib/' + platform.system())\n",
    "os.environ['PATH'] = libFolder + \";\" + os.environ['PATH']"
   ]
  },
  {
   "cell_type": "code",
   "execution_count": 3,
   "metadata": {},
   "outputs": [],
   "source": [
    "# Load COVID-19 Data to cDate dataframe\n",
    "cData = pd.read_csv('COVID-19 Data/covid_daily.csv')"
   ]
  },
  {
   "cell_type": "code",
   "execution_count": 4,
   "metadata": {},
   "outputs": [],
   "source": [
    "# Main GUI - Create Labels, Buttons and Menus\n",
    "title_label    = widgets.Label(value='Choose Visualization Mode')\n",
    "title_menu     = widgets.Label(value='Export Video')\n",
    "bubble_btn     = widgets.Button(description='Bubble')\n",
    "map_btn        = widgets.Button(description='Map')\n",
    "bar_btn        = widgets.Button(description='Bar')\n",
    "barModes_btns  = widgets.RadioButtons(options=['Confirmed', 'Deaths'], value='Confirmed', description='Bar Mode:')\n",
    "export_menu    = widgets.Dropdown(options=['Graph Type', 'Bubble', 'Map', 'Bar_Confirmed', 'Bar_Deaths'], \n",
    "                                  value='Graph Type')\n",
    "\n",
    "# Containers And Layouts for The Components\n",
    "barBtn_container  = widgets.HBox([bar_btn, barModes_btns])\n",
    "btns_container    = widgets.VBox([title_label, widgets.HBox([bubble_btn, map_btn, barBtn_container])])\n",
    "menu_container    = widgets.VBox([title_menu, export_menu])\n",
    "main_container    = widgets.VBox([btns_container, menu_container])\n",
    "outputFigure      = widgets.Output()"
   ]
  },
  {
   "cell_type": "code",
   "execution_count": 5,
   "metadata": {
    "pycharm": {
     "is_executing": true,
     "name": "#%%\n"
    }
   },
   "outputs": [
    {
     "name": "stdout",
     "output_type": "stream",
     "text": [
      "Creating The Graphs...\n",
      "All Graphs Was Created Successfully!.\n"
     ]
    }
   ],
   "source": [
    "def createBubbleGraph():\n",
    "    \"\"\"\n",
    "    Creates a bubble graph representing COVID-19 data from 22-01-2020 till 13-05-2020\n",
    "    \"\"\"\n",
    "    return px.scatter(cData, x=\"Deaths\", y=\"Recovered\", size=\"Confirmed\", title='COVID-19 Bubble Graph',\n",
    "                             color=\"Confirmed\", color_continuous_scale='Viridis', text=\"Country\",\n",
    "                             animation_frame=\"Date\", animation_group=\"Country\", hover_name=\"Country\",\n",
    "                             log_x=True, log_y=True, size_max=200)\n",
    "    \n",
    "def createMapGraph():\n",
    "    \"\"\"\n",
    "    Creates a map graph representing COVID-19 data from 22-01-2020 till 13-05-2020\n",
    "    \"\"\"\n",
    "    return px.choropleth(cData, locations='Country', locationmode='country names', title='COVID-19 Map Graph',\n",
    "                                color='Confirmed', color_continuous_scale='Viridis', \n",
    "                                labels={'Country':'Confirmed'}, animation_frame=\"Date\", \n",
    "                                animation_group=\"Country\", hover_name='Country')\n",
    "\n",
    "def createBarGraph(viewMode: str):\n",
    "    \"\"\"\n",
    "    Creates a bar graph representing COVID-19 data from 22-01-2020 till 13-05-2020\n",
    "    Bar graph has 2 viewModes: 'Confirmed' and 'Deaths'. And the User can choose between them.\n",
    "    params viewMode: A string to choose which mode to view\n",
    "    \"\"\"\n",
    "    \n",
    "    # Remove the countries which have 0 confirmed cases in each day\n",
    "    updatedData = cData[cData[viewMode] != 0]\n",
    "    barFigure = px.bar(updatedData, x=\"Country\", y=viewMode, title='COVID-19 Bar Graph',\n",
    "                                    color_continuous_scale='Viridis', animation_frame=\"Date\",\n",
    "                                    animation_group=\"Country\")\n",
    "    \n",
    "    # For updating the bars to be sorted descending\n",
    "    barFigure.update_layout(xaxis={'categoryorder': 'total descending'})\n",
    "    return barFigure\n",
    "    \n",
    "def createAllGraphs():\n",
    "    \"\"\"\n",
    "    Creates all the graphs figures (Bubble, Map and Bar).\n",
    "    Each graph is created using plotly-express (A High-level API)\n",
    "    \"\"\"\n",
    "    \n",
    "    figuresGraphs = {}                  # Dictionary contains the graphs figures\n",
    "    print('Creating The Graphs...')\n",
    "    figuresGraphs['Bubble']        = createBubbleGraph()\n",
    "    figuresGraphs['Map']           = createMapGraph()\n",
    "    figuresGraphs['Bar_Confirmed'] = createBarGraph(viewMode='Confirmed')\n",
    "    figuresGraphs['Bar_Deaths']    = createBarGraph(viewMode='Deaths')\n",
    "    print('All Graphs Was Created Successfully!.')\n",
    "    return  figuresGraphs\n",
    "\n",
    "figures = createAllGraphs()"
   ]
  },
  {
   "cell_type": "code",
   "execution_count": 6,
   "metadata": {
    "pycharm": {
     "is_executing": true
    }
   },
   "outputs": [],
   "source": [
    "def ExportGraphToMP4(graphName: str, width: int, height: int, FPS: int, Seconds: int):\n",
    "    \"\"\"\n",
    "    Exports the given graph figure to mp4 video and save it in 'results/' folder \n",
    "    \"\"\"\n",
    "    global image\n",
    "    video_dimensions = (width, height)\n",
    "    fps = FPS\n",
    "    seconds = Seconds\n",
    "    fourcc = cv2.VideoWriter_fourcc(*'avc1')    \n",
    "    video = cv2.VideoWriter(f\"results/{graphName}Graph.mp4\", fourcc, fps, video_dimensions)\n",
    "    figCounter = 0\n",
    "    \n",
    "    print(f'Exporting {graphName} Graph to mp4 video, please wait..')\n",
    "    # The Main Loop Over The Video To Draw Each Frame\n",
    "    for i in range(0, seconds*fps):\n",
    "        if i % 15 == 0:\n",
    "            if figCounter < len(figures[graphName].frames):\n",
    "                fig = go.Figure(figures[graphName].frames[figCounter].data, figures[graphName].layout)\n",
    "                fig[\"layout\"].pop(\"updatemenus\")\n",
    "                fig[\"layout\"].pop(\"sliders\")\n",
    "                fig[\"layout\"].pop(\"barmode\")\n",
    "                fig[\"layout\"].pop(\"legend\")\n",
    "                img_bytes = fig.to_image(format=\"png\")\n",
    "                stream = BytesIO(img_bytes)\n",
    "                image = Image.open(stream).convert(\"RGBA\")\n",
    "                stream.close()\n",
    "            else:\n",
    "                break\n",
    "\n",
    "        # Draw frame.\n",
    "        video.write(cv2.cvtColor(np.array(image), cv2.COLOR_RGB2BGR))\n",
    "\n",
    "        # Start/End of the frame\n",
    "        # In case of 60 fps -> each figure will be drawn 18 times\n",
    "        if (i+1) % 15 == 0:\n",
    "            figCounter += 1\n",
    "        \n",
    "    video.release()\n",
    "    print('Exporting finished Successfully!.')\n",
    "    print(f'video saved in results/{graphName}Graph.mp4')"
   ]
  },
  {
   "cell_type": "code",
   "execution_count": 7,
   "metadata": {
    "pycharm": {
     "is_executing": true
    }
   },
   "outputs": [],
   "source": [
    "def menuChanged(_):\n",
    "    \"\"\"\n",
    "    A Handler function for export video menu to select which type to be exported\n",
    "    \"\"\"\n",
    "    if export_menu.value != export_menu.options[0]:\n",
    "        ExportGraphToMP4(graphName=export_menu.value, width=700, height=500, FPS=60, Seconds=60)\n",
    "    \n",
    "def displayGraph(_, mode):\n",
    "    \"\"\"\n",
    "    This function is responsible for displaying one the figures depending on the given mode.\n",
    "    params mode: A string represents the mode of the graphs.\n",
    "    \"\"\"\n",
    "    with outputFigure:\n",
    "        clear_output()\n",
    "        # Check Mode Of Bar Graph\n",
    "        if mode == 'Bar':\n",
    "            if barModes_btns.value == 'Confirmed':\n",
    "                figures['Bar_Confirmed'].show()\n",
    "            elif barModes_btns.value == 'Deaths':\n",
    "                figures['Bar_Deaths'].show()\n",
    "        else:\n",
    "            figures[mode].show()"
   ]
  },
  {
   "cell_type": "code",
   "execution_count": 8,
   "metadata": {
    "pycharm": {
     "is_executing": true
    },
    "scrolled": false
   },
   "outputs": [
    {
     "data": {
      "application/vnd.jupyter.widget-view+json": {
       "model_id": "d3b18fd04925469e9674154852eae3bf",
       "version_major": 2,
       "version_minor": 0
      },
      "text/plain": [
       "VBox(children=(VBox(children=(VBox(children=(Label(value='Choose Visualization Mode'), HBox(children=(Button(d…"
      ]
     },
     "metadata": {},
     "output_type": "display_data"
    },
    {
     "name": "stdout",
     "output_type": "stream",
     "text": [
      "Exporting Bubble Graph to mp4 video, please wait..\n",
      "Exporting finished Successfully!.\n",
      "video saved in results/BubbleGraph.mp4\n",
      "Exporting Map Graph to mp4 video, please wait..\n",
      "Exporting finished Successfully!.\n",
      "video saved in results/MapGraph.mp4\n",
      "Exporting Bar_Confirmed Graph to mp4 video, please wait..\n",
      "Exporting finished Successfully!.\n",
      "video saved in results/Bar_ConfirmedGraph.mp4\n",
      "Exporting Bar_Deaths Graph to mp4 video, please wait..\n",
      "Exporting finished Successfully!.\n",
      "video saved in results/Bar_DeathsGraph.mp4\n"
     ]
    }
   ],
   "source": [
    "# Buttons Handler\n",
    "bubble_btn.on_click(lambda x: displayGraph(x, bubble_btn.description))\n",
    "map_btn.on_click(lambda x: displayGraph(x, map_btn.description))\n",
    "bar_btn.on_click(lambda x: displayGraph(x, bar_btn.description))\n",
    "export_menu.observe(menuChanged, names='value')\n",
    "widgets.VBox([main_container, outputFigure])"
   ]
  },
  {
   "cell_type": "code",
   "execution_count": null,
   "metadata": {
    "pycharm": {
     "is_executing": true
    }
   },
   "outputs": [],
   "source": []
  },
  {
   "cell_type": "code",
   "execution_count": null,
   "metadata": {},
   "outputs": [],
   "source": []
  }
 ],
 "metadata": {
  "kernelspec": {
   "display_name": "Python 3.7.4 64-bit",
   "language": "python",
   "name": "python37464bit137abc2606384d85aebc79a6f9d6ca87"
  },
  "language_info": {
   "codemirror_mode": {
    "name": "ipython",
    "version": 3
   },
   "file_extension": ".py",
   "mimetype": "text/x-python",
   "name": "python",
   "nbconvert_exporter": "python",
   "pygments_lexer": "ipython3",
   "version": "3.7.4"
  }
 },
 "nbformat": 4,
 "nbformat_minor": 1
}
