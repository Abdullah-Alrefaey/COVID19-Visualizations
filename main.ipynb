{
 "cells": [
  {
   "cell_type": "code",
   "execution_count": 1,
   "metadata": {},
   "outputs": [],
   "source": [
    "%config IPCompleter.greedy=True"
   ]
  },
  {
   "cell_type": "code",
   "execution_count": 2,
   "metadata": {
    "pycharm": {
     "name": "#%%\n"
    }
   },
   "outputs": [],
   "source": [
    "import plotly.express as px\n",
    "from IPython.display import clear_output\n",
    "import ipywidgets as widgets\n",
    "import pandas as pd"
   ]
  },
  {
   "cell_type": "code",
   "execution_count": 3,
   "metadata": {
    "pycharm": {
     "name": "#%%\n"
    }
   },
   "outputs": [],
   "source": [
    "cData = pd.read_csv('COVID-19-Data/aggregated_sorted_totall.csv')"
   ]
  },
  {
   "cell_type": "code",
   "execution_count": 4,
   "metadata": {
    "pycharm": {
     "name": "#%%\n"
    }
   },
   "outputs": [
    {
     "name": "stdout",
     "output_type": "stream",
     "text": [
      "Creating Bubble Graph...\n",
      "Bubble Graph Created Successfully!\n",
      "Creating Map Graph...\n",
      "Map Graph Created Successfully!\n",
      "Creating Bar Graph...\n",
      "Bar Graph Created Successfully!\n"
     ]
    }
   ],
   "source": [
    "# Main GUI - Create Figures' Buttons\n",
    "title_label    = widgets.Label(value='Choose Visualization Mode')\n",
    "bubble_btn     = widgets.Button(description='Bubble')\n",
    "map_btn        = widgets.Button(description='Maps')\n",
    "bar_btn        = widgets.Button(description='Bar')\n",
    "btns_container = widgets.VBox([title_label, widgets.HBox([bubble_btn, map_btn, bar_btn])])\n",
    "outputFigure   = widgets.Output()\n",
    "\n",
    "def createGraphs():\n",
    "    print('Creating Bubble Graph...')\n",
    "    bubbleFigure = px.scatter(cData, x=\"Deaths\",\n",
    "                                     y=\"Recovered\",\n",
    "                                     size=\"Confirmed\",\n",
    "                                     color=\"Country\",\n",
    "                                     animation_frame=\"Date\",\n",
    "                                     animation_group=\"Country\",\n",
    "                                     hover_name=\"Country\",\n",
    "                                     log_x=True,\n",
    "    #                                  size_max=200,\n",
    "    #                                  range_x=[1, 85000],\n",
    "    #                                  range_y=[0, 250000]\n",
    "                             )\n",
    "    print('Bubble Graph Created Successfully!')\n",
    "    \n",
    "    print('Creating Map Graph...')\n",
    "    mapsFigure = px.choropleth(cData, locations='Country',\n",
    "                                      locationmode='country names',\n",
    "                                      color='Confirmed',\n",
    "                                      color_continuous_scale=px.colors.sequential.Plasma,\n",
    "#                                       range_color=(0, 100),\n",
    "                                      labels={'Country':'Confirmed'},\n",
    "                                      hover_name='Country',\n",
    "                                      animation_frame=\"Date\",\n",
    "                                      animation_group=\"Country\")\n",
    "    print('Map Graph Created Successfully!')\n",
    "\n",
    "    print('Creating Bar Graph...')\n",
    "    barFigure = px.bar(cData, x=\"Country\",\n",
    "                              y=\"Confirmed\",\n",
    "                              color='Country',\n",
    "                              animation_frame=\"Date\",\n",
    "                              animation_group=\"Country\")\n",
    "    print('Bar Graph Created Successfully!')\n",
    "    \n",
    "    return {'Bubble': bubbleFigure, 'Map': mapsFigure, 'Bar': barFigure}\n",
    "\n",
    "figures = createGraphs()\n",
    "\n",
    "def displayBubbleGraph(_):\n",
    "    with outputFigure:\n",
    "        clear_output()\n",
    "        figures['Bubble'].show()\n",
    "\n",
    "def displayMapGraph(_):\n",
    "    with outputFigure:\n",
    "        clear_output()\n",
    "        figures['Map'].show()\n",
    "        \n",
    "def displayBarGraph(_):\n",
    "    with outputFigure:\n",
    "        clear_output()\n",
    "        figures['Bar'].show()"
   ]
  },
  {
   "cell_type": "code",
   "execution_count": 5,
   "metadata": {},
   "outputs": [
    {
     "data": {
      "application/vnd.jupyter.widget-view+json": {
       "model_id": "ce1ea28cc5554dbca5cd112dfcbe186b",
       "version_major": 2,
       "version_minor": 0
      },
      "text/plain": [
       "VBox(children=(VBox(children=(Label(value='Choose Visualization Mode'), HBox(children=(Button(description='Bub…"
      ]
     },
     "metadata": {},
     "output_type": "display_data"
    }
   ],
   "source": [
    "# Buttons Handler \n",
    "bubble_btn.on_click(displayBubbleGraph)\n",
    "map_btn.on_click(displayMapGraph)\n",
    "bar_btn.on_click(displayBarGraph)\n",
    "widgets.VBox([btns_container, outputFigure])"
   ]
  }
 ],
 "metadata": {
  "kernelspec": {
   "display_name": "Python 3.7.4 64-bit",
   "language": "python",
   "name": "python37464bit137abc2606384d85aebc79a6f9d6ca87"
  },
  "language_info": {
   "codemirror_mode": {
    "name": "ipython",
    "version": 3
   },
   "file_extension": ".py",
   "mimetype": "text/x-python",
   "name": "python",
   "nbconvert_exporter": "python",
   "pygments_lexer": "ipython3",
   "version": "3.7.4"
  }
 },
 "nbformat": 4,
 "nbformat_minor": 1
}
