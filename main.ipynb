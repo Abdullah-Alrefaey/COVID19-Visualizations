{
 "cells": [
  {
   "cell_type": "code",
   "execution_count": 1,
   "metadata": {
    "pycharm": {
     "name": "#%%\n"
    }
   },
   "outputs": [],
   "source": [
    "%config IPCompleter.greedy=True\n",
    "import plotly.express as px\n",
    "import plotly.graph_objects as go\n",
    "import ipywidgets as widgets\n",
    "from IPython.display import Image, clear_output\n",
    "import pandas as pd\n",
    "import numpy as np\n",
    "from PIL import Image\n",
    "from io import BytesIO\n",
    "import cv2\n",
    "import os\n",
    "import platform"
   ]
  },
  {
   "cell_type": "code",
   "execution_count": 2,
   "metadata": {
    "pycharm": {
     "name": "#%%\n"
    }
   },
   "outputs": [],
   "source": [
    "# Create results folder one time\n",
    "if not os.path.exists(\"results\"):\n",
    "    os.mkdir(\"results\")\n",
    "    \n",
    "# Include the .dll file in lib folder\n",
    "# Needed for creating and exporting the video using cv2\n",
    "libFolder = os.path.abspath('lib/' + platform.system())\n",
    "os.environ['PATH'] = libFolder + \";\" + os.environ['PATH']"
   ]
  },
  {
   "cell_type": "code",
   "execution_count": 3,
   "metadata": {},
   "outputs": [],
   "source": [
    "# Load COVID-19 Data to cDate dataframe \n",
    "cData = pd.read_csv('COVID-19 Data/covid_daily.csv')"
   ]
  },
  {
   "cell_type": "code",
   "execution_count": 31,
   "metadata": {},
   "outputs": [
    {
     "data": {
      "application/vnd.jupyter.widget-view+json": {
       "model_id": "f76b2f25b141487b9dc3f39be5c3a5b1",
       "version_major": 2,
       "version_minor": 0
      },
      "text/plain": [
       "VBox(children=(VBox(children=(Label(value='Choose Visualization Mode'), HBox(children=(Button(description='Bub…"
      ]
     },
     "metadata": {},
     "output_type": "display_data"
    }
   ],
   "source": [
    "# Main GUI - Create Figures' Buttons\n",
    "title_label    = widgets.Label(value='Choose Visualization Mode')\n",
    "bubble_btn     = widgets.Button(description='Bubble')\n",
    "map_btn        = widgets.Button(description='Map')\n",
    "bar_btn        = widgets.Button(description='Bar')\n",
    "conf_check     = widgets.Checkbox(description='Confirmed', indent=False)\n",
    "death_check    = widgets.Checkbox(description='Deaths', indent=False)\n",
    "export_menu    = widgets.Dropdown(options=['Graph Type', 'Bubble', 'Map', 'Bar'],\n",
    "                                  value='Graph Type', description='Export Video: ')\n",
    "checkBoxs         = widgets.VBox([conf_check, death_check])\n",
    "barBtn_container  = widgets.HBox([bar_btn, checkBoxs])\n",
    "btns_container    = widgets.VBox([title_label, widgets.HBox([bubble_btn, map_btn, barBtn_container])])\n",
    "main_container    = widgets.VBox([btns_container, export_menu])\n",
    "outputFigure      = widgets.Output()"
   ]
  },
  {
   "cell_type": "code",
   "execution_count": 5,
   "metadata": {
    "pycharm": {
     "is_executing": true,
     "name": "#%%\n"
    }
   },
   "outputs": [
    {
     "name": "stdout",
     "output_type": "stream",
     "text": [
      "Creating The Graphs...\n",
      "All Graphs Was Created Successfully!.\n"
     ]
    }
   ],
   "source": [
    "\n",
    "\n",
    "def createBubbleGraph():\n",
    "    \"\"\"\n",
    "    Creates a bubble graph representing COVID-19 data from 22-01-2020 till 13-05-2020\n",
    "    \"\"\"\n",
    "    return px.scatter(cData, x=\"Deaths\", y=\"Recovered\", size=\"Confirmed\", title='COVID-19 Bubble Graph',\n",
    "                                     color=\"Confirmed\", color_continuous_scale='Viridis', text=\"Country\",\n",
    "                                     animation_frame=\"Date\", animation_group=\"Country\", hover_name=\"Country\",\n",
    "                                     log_x=True, log_y=True, size_max=200)\n",
    "    \n",
    "def createMapGraph():\n",
    "    \"\"\"\n",
    "    Creates a map graph representing COVID-19 data from 22-01-2020 till 13-05-2020\n",
    "    \"\"\"\n",
    "    mapFigure = px.choropleth(cData, locations='Country', locationmode='country names', title='COVID-19 Map Graph',\n",
    "                                     color='Confirmed', color_continuous_scale='Viridis', \n",
    "                                     labels={'Country':'Confirmed'}, animation_frame=\"Date\", \n",
    "                                     animation_group=\"Country\", hover_name='Country')\n",
    "\n",
    "def createBarGraph(viewMode: str):\n",
    "    # Remove the countries which have 0 confirmed cases in each day\n",
    "    updatedData = cData[cData['Confirmed'] != 0]\n",
    "    barFigure = px.bar(updatedData, x=\"Country\", y=\"Confirmed\", title='COVID-19 Bar Graph',\n",
    "                                    color_continuous_scale='Viridis', animation_frame=\"Date\",\n",
    "                                    animation_group=\"Country\")\n",
    "    \n",
    "    # For updating the bars to be sorted descending\n",
    "    barFigure.update_layout(xaxis={'categoryorder': 'total descending'})\n",
    "    \n",
    "    \n",
    "    \n",
    "def createGraphs():\n",
    "    \"\"\"\n",
    "    Creates the graph figure for each mode (Bubble, Map and Bar).\n",
    "    Each graph is created using plotly-express (high-level API)\n",
    "    \n",
    "    \"\"\"\n",
    "    \n",
    "    print('Creating The Graphs...')\n",
    "    \n",
    "    bubbleFigure = px.scatter(cData, x=\"Deaths\",\n",
    "                                     y=\"Recovered\",\n",
    "                                     size=\"Confirmed\",\n",
    "                                     title='COVID-19 Bubble Graph',\n",
    "                                     color=\"Confirmed\",\n",
    "                                     color_continuous_scale='Viridis',\n",
    "                                     text=\"Country\",\n",
    "                                     animation_frame=\"Date\",\n",
    "                                     animation_group=\"Country\",\n",
    "                                     hover_name=\"Country\",\n",
    "                                     log_x=True,\n",
    "                                     log_y=True,\n",
    "                                     size_max=200)\n",
    "    \n",
    "    mapFigure = px.choropleth(cData, locations='Country',\n",
    "                                     locationmode='country names',\n",
    "                                     title='COVID-19 Map Graph',\n",
    "                                     color='Confirmed',\n",
    "                                     color_continuous_scale='Viridis',\n",
    "                                     labels={'Country':'Confirmed'},\n",
    "                                     hover_name='Country',\n",
    "                                     animation_frame=\"Date\",\n",
    "                                     animation_group=\"Country\")\n",
    "\n",
    "    # Remove the countries which have 0 confirmed cases in each day\n",
    "    updatedData = cData[cData['Confirmed'] != 0]\n",
    "    barFigure = px.bar(updatedData, x=\"Country\",\n",
    "                                    y=\"Confirmed\",\n",
    "                                    title='COVID-19 Bar Graph',\n",
    "                                    color_continuous_scale='Viridis',\n",
    "                                    animation_frame=\"Date\",\n",
    "                                    animation_group=\"Country\")\n",
    "    \n",
    "    # For updating the bars to be sorted descending\n",
    "    barFigure.update_layout(xaxis={'categoryorder': 'total descending'})\n",
    "    print('All Graphs Was Created Successfully!.')\n",
    "    \n",
    "    return {'Bubble': bubbleFigure, 'Map': mapFigure, 'Bar': barFigure}\n",
    "        \n",
    "figures = createGraphs()"
   ]
  },
  {
   "cell_type": "code",
   "execution_count": 6,
   "metadata": {
    "pycharm": {
     "is_executing": true
    }
   },
   "outputs": [],
   "source": [
    "def ExportGraphToMP4(graphName: str, width: int, height: int, FPS: int, Seconds: int):\n",
    "    \"\"\"\n",
    "    Exports the given graph figure to mp4 video and save it in 'results/' folder \n",
    "    \"\"\"\n",
    "    global image\n",
    "    video_dimensions = (width, height)\n",
    "    fps = FPS\n",
    "    seconds = Seconds\n",
    "    fourcc = cv2.VideoWriter_fourcc(*'avc1')    \n",
    "    video = cv2.VideoWriter(f\"results/{graphName}Graph.mp4\", fourcc, fps, video_dimensions)\n",
    "    figCounter = 0\n",
    "    \n",
    "    print(f'Exporting {graphName} Graph to mp4 video, please wait..')\n",
    "    # The Main Loop Over The Video To Draw Each Frame\n",
    "    for i in range(0, seconds*fps):\n",
    "        if i % 15 == 0:\n",
    "            if figCounter < len(figures[graphName].frames):\n",
    "                fig = go.Figure(figures[graphName].frames[figCounter].data, figures[graphName].layout)\n",
    "                fig[\"layout\"].pop(\"updatemenus\")\n",
    "                fig[\"layout\"].pop(\"sliders\")\n",
    "                fig[\"layout\"].pop(\"barmode\")\n",
    "                fig[\"layout\"].pop(\"legend\")\n",
    "                img_bytes = fig.to_image(format=\"png\")\n",
    "                stream = BytesIO(img_bytes)\n",
    "                image = Image.open(stream).convert(\"RGBA\")\n",
    "                stream.close()\n",
    "            else:\n",
    "                break\n",
    "\n",
    "        # Draw frame.\n",
    "        video.write(cv2.cvtColor(np.array(image), cv2.COLOR_RGB2BGR))\n",
    "\n",
    "        # Start/End of the frame\n",
    "        # In case of 60 fps -> each figure will be drawn 18 times\n",
    "        if (i+1) % 15 == 0:\n",
    "            figCounter += 1\n",
    "        \n",
    "    video.release()\n",
    "    print('Exporting finished Successfully!.')\n",
    "    print(f'video saved in results/{graphName}Graph.mp4')"
   ]
  },
  {
   "cell_type": "code",
   "execution_count": 7,
   "metadata": {
    "pycharm": {
     "is_executing": true
    }
   },
   "outputs": [],
   "source": [
    "def menuChanged(_):\n",
    "    if export_menu.value != export_menu.options[0]:\n",
    "        ExportGraphToMP4(graphName=export_menu.value, width=700, height=500, FPS=60, Seconds=60)\n",
    "    \n",
    "def displayGraph(_, mode):\n",
    "    with outputFigure:\n",
    "        clear_output()\n",
    "        figures[mode].show()"
   ]
  },
  {
   "cell_type": "code",
   "execution_count": 32,
   "metadata": {
    "pycharm": {
     "is_executing": true
    },
    "scrolled": false
   },
   "outputs": [
    {
     "data": {
      "application/vnd.jupyter.widget-view+json": {
       "model_id": "f5f976ff1b954b82abf53aa4adb23c32",
       "version_major": 2,
       "version_minor": 0
      },
      "text/plain": [
       "VBox(children=(VBox(children=(VBox(children=(Label(value='Choose Visualization Mode'), HBox(children=(Button(d…"
      ]
     },
     "metadata": {},
     "output_type": "display_data"
    }
   ],
   "source": [
    "# Buttons Handler\n",
    "bubble_btn.on_click(lambda x: displayGraph(x, bubble_btn.description))\n",
    "map_btn.on_click(lambda x: displayGraph(x, map_btn.description))\n",
    "bar_btn.on_click(lambda x: displayGraph(x, bar_btn.description))\n",
    "export_menu.observe(menuChanged, names='value')\n",
    "widgets.VBox([main_container, outputFigure])"
   ]
  },
  {
   "cell_type": "code",
   "execution_count": null,
   "metadata": {
    "pycharm": {
     "is_executing": true
    }
   },
   "outputs": [],
   "source": []
  },
  {
   "cell_type": "code",
   "execution_count": null,
   "metadata": {},
   "outputs": [],
   "source": []
  }
 ],
 "metadata": {
  "kernelspec": {
   "display_name": "Python 3.7.4 64-bit",
   "language": "python",
   "name": "python37464bit137abc2606384d85aebc79a6f9d6ca87"
  },
  "language_info": {
   "codemirror_mode": {
    "name": "ipython",
    "version": 3
   },
   "file_extension": ".py",
   "mimetype": "text/x-python",
   "name": "python",
   "nbconvert_exporter": "python",
   "pygments_lexer": "ipython3",
   "version": "3.7.4"
  }
 },
 "nbformat": 4,
 "nbformat_minor": 1
}
