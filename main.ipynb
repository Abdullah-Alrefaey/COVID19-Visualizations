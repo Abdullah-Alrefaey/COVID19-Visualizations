{
 "cells": [
  {
   "cell_type": "code",
   "execution_count": 14,
   "metadata": {},
   "outputs": [],
   "source": [
    "# %run widgets.ipynb\n",
    "%config IPCompleter.greedy=True"
   ]
  },
  {
   "cell_type": "code",
   "execution_count": 15,
   "metadata": {
    "pycharm": {
     "name": "#%%\n"
    }
   },
   "outputs": [],
   "source": [
    "import plotly\n",
    "import plotly.graph_objs as go\n",
    "import plotly.express as px\n",
    "from IPython.display import display, clear_output\n",
    "import ipywidgets as widgets"
   ]
  },
  {
   "cell_type": "code",
   "execution_count": 20,
   "metadata": {
    "pycharm": {
     "name": "#%%\n"
    }
   },
   "outputs": [
    {
     "data": {
      "text/plain": "VBox(children=(VBox(children=(Label(value='Choose Visualization Mode'), HBox(children=(ToggleButtons(button_st…",
      "application/vnd.jupyter.widget-view+json": {
       "version_major": 2,
       "version_minor": 0,
       "model_id": "0c8eaafcf9204bc6ab70ff77d120e3a8"
      }
     },
     "metadata": {},
     "output_type": "display_data"
    }
   ],
   "source": [
    "# Main GUI\n",
    "# Create Figures Buttons\n",
    "labelMode = widgets.Label(value='Choose Visualization Mode')\n",
    "\n",
    "modeButtons = widgets.ToggleButtons(\n",
    "    options=['Bubble', 'Maps', 'Bar'],\n",
    "#     description='View Mode:',\n",
    "    disabled=False,\n",
    "    button_style='info', # 'success', 'info', 'warning', 'danger' or ''\n",
    "    tooltips=['Bubble Graph', 'Maps Graph', 'Bar Rank'],\n",
    "#     icons=['check'] * 3\n",
    ")\n",
    "\n",
    "btns_container = widgets.VBox([labelMode, widgets.HBox([modeButtons])])\n",
    "outputFigure = widgets.Output()\n",
    "\n",
    "\n",
    "def SelectDisplayMode(_):\n",
    "    with outputFigure:\n",
    "        clear_output()\n",
    "        \n",
    "        # Display Bubble Graph\n",
    "        if (modeButtons.value == 'Bubble'):\n",
    "            df = px.data.gapminder()\n",
    "            fig = px.scatter(df, x=\"gdpPercap\", y=\"lifeExp\", animation_frame=\"year\", animation_group=\"country\",\n",
    "                       size=\"pop\", color=\"continent\", hover_name=\"country\",\n",
    "                       log_x=True, size_max=55, range_x=[100,100000], range_y=[25,90])\n",
    "            fig.show()\n",
    "\n",
    "        # Display Maps Graph\n",
    "        if (modeButtons.value == 'Maps'):\n",
    "            #initializing the data variable\n",
    "            data = dict(type = 'choropleth',\n",
    "                        locations = ['india','nepal','china','pakistan','Bangladesh','bhutan','myanmar','srilanka','egypt', 'turkey'],\n",
    "                        locationmode = 'country names',\n",
    "                        colorscale= 'Portland',\n",
    "                        text= ['IND','NEP','CHI','PAK','BAN','BHU', 'MYN','SLK', 'EGY', 'TUR'],\n",
    "                        z=[1.0,2.0,3.0,4.0,5.0,6.0,7.0,8.0,9.0,10.0],\n",
    "                        colorbar = {'title':'Country Colours', 'len':200,'lenmode':'pixels' })\n",
    "            col_map = go.Figure(data = [data])\n",
    "            g = go.FigureWidget(col_map)\n",
    "            g.show()\n",
    "\n",
    "        # Display Bar Rank Graph\n",
    "        if (modeButtons.value == 'Bar'):\n",
    "            df = px.data.gapminder()\n",
    "            fig = px.bar(df, x=\"continent\", y=\"pop\", color=\"continent\",\n",
    "                         animation_frame=\"year\", animation_group=\"country\", range_y=[0,4000000000])\n",
    "            fig.show()\n",
    "\n",
    "# Handler of clicking on modeButtons\n",
    "modeButtons.observe(SelectDisplayMode)\n",
    "\n",
    "display(widgets.VBox([btns_container, outputFigure]))"
   ]
  },
  {
   "cell_type": "code",
   "execution_count": null,
   "metadata": {},
   "outputs": [],
   "source": []
  }
 ],
 "metadata": {
  "kernelspec": {
   "display_name": "Python 3",
   "language": "python",
   "name": "python3"
  },
  "language_info": {
   "codemirror_mode": {
    "name": "ipython",
    "version": 3
   },
   "file_extension": ".py",
   "mimetype": "text/x-python",
   "name": "python",
   "nbconvert_exporter": "python",
   "pygments_lexer": "ipython3",
   "version": "3.7.4"
  }
 },
 "nbformat": 4,
 "nbformat_minor": 1
}