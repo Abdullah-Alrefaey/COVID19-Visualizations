{
 "cells": [
  {
   "cell_type": "code",
   "execution_count": 5,
   "metadata": {},
   "outputs": [
    {
     "data": {
      "application/vnd.jupyter.widget-view+json": {
       "model_id": "a88810ec191540b396f74cdc06a9c624",
       "version_major": 2,
       "version_minor": 0
      },
      "text/plain": [
       "VBox(children=(FigureWidget({\n",
       "    'data': [{'colorbar': {'len': 200, 'lenmode': 'pixels', 'title': {'text': 'C…"
      ]
     },
     "metadata": {},
     "output_type": "display_data"
    }
   ],
   "source": [
    "import plotly.graph_objects as go\n",
    "from ipywidgets import widgets\n",
    "\n",
    "#initializing the data variable\n",
    "data = dict(type = 'choropleth',\n",
    "            locations = ['india','nepal','china','pakistan','Bangladesh','bhutan','myanmar','srilanka','egypt', 'turkey'],\n",
    "            locationmode = 'country names',\n",
    "            colorscale= 'Portland',\n",
    "            text= ['IND','NEP','CHI','PAK','BAN','BHU', 'MYN','SLK', 'EGY', 'TUR'],\n",
    "            z=[1.0,2.0,3.0,4.0,5.0,6.0,7.0,8.0,9.0,10.0],\n",
    "            colorbar = {'title':'Country Colours', 'len':200,'lenmode':'pixels' })\n",
    "\n",
    "def handle_click(trace, points, state):\n",
    "    print(trace)\n",
    "    print(trace.locations[points.point_inds[0]])\n",
    "\n",
    "col_map = go.Figure(data = [data])\n",
    "g = go.FigureWidget(col_map)\n",
    "g.data[0].on_click(handle_click)\n",
    "widgets.VBox([g])"
   ]
  },
  {
   "cell_type": "code",
   "execution_count": null,
   "metadata": {},
   "outputs": [],
   "source": []
  }
 ],
 "metadata": {
  "kernelspec": {
   "display_name": "Python 3",
   "language": "python",
   "name": "python3"
  },
  "language_info": {
   "codemirror_mode": {
    "name": "ipython",
    "version": 3
   },
   "file_extension": ".py",
   "mimetype": "text/x-python",
   "name": "python",
   "nbconvert_exporter": "python",
   "pygments_lexer": "ipython3",
   "version": "3.7.4"
  }
 },
 "nbformat": 4,
 "nbformat_minor": 4
}
