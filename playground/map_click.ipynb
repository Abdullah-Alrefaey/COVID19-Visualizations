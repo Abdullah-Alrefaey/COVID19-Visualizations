{
 "cells": [
  {
   "cell_type": "code",
   "execution_count": 3,
   "metadata": {},
   "outputs": [
    {
     "data": {
      "application/vnd.jupyter.widget-view+json": {
       "model_id": "3c69544c24c84f0a91c99a7f8afdf417",
       "version_major": 2,
       "version_minor": 0
      },
      "text/plain": [
       "VBox(children=(FigureWidget({\n",
       "    'data': [{'colorbar': {'len': 200, 'lenmode': 'pixels', 'title': {'text': 'C…"
      ]
     },
     "metadata": {},
     "output_type": "display_data"
    },
    {
     "name": "stdout",
     "output_type": "stream",
     "text": [
      "Choropleth({\n",
      "    'colorbar': {'len': 200, 'lenmode': 'pixels', 'title': {'text': 'Country Colours'}},\n",
      "    'colorscale': [[0.0, 'rgb(12,51,131)'], [0.25, 'rgb(10,136,186)'], [0.5,\n",
      "                   'rgb(242,211,56)'], [0.75, 'rgb(242,143,56)'], [1.0,\n",
      "                   'rgb(217,30,30)']],\n",
      "    'locationmode': 'country names',\n",
      "    'locations': [india, nepal, china, pakistan, Bangladesh, bhutan, myanmar,\n",
      "                  srilanka, egypt, turkey],\n",
      "    'text': [IND, NEP, CHI, PAK, BAN, BHU, MYN, SLK, EGY, TUR],\n",
      "    'uid': 'f039adaf-839f-4fe9-b3df-9dfe3e177d97',\n",
      "    'z': [1.0, 2.0, 3.0, 4.0, 5.0, 6.0, 7.0, 8.0, 9.0, 10.0]\n",
      "})\n",
      "Points(point_inds=[8],\n",
      "       xs=[<object object at 0x000001E5F79FBF00>],\n",
      "       ys=[<object object at 0x000001E5F79FBF00>],\n",
      "       trace_name='trace 0',\n",
      "       trace_index=0)\n",
      "InputDeviceState(\n",
      "    ctrl=False, \n",
      "    alt=False, \n",
      "    shift=False, \n",
      "    meta=False, \n",
      "    button=0, \n",
      "    buttons=0)\n",
      "egypt\n"
     ]
    }
   ],
   "source": [
    "import plotly.graph_objects as go\n",
    "from ipywidgets import widgets\n",
    "\n",
    "#initializing the data variable\n",
    "data = dict(type = 'choropleth',\n",
    "            locations = ['india','nepal','china','pakistan','Bangladesh','bhutan','myanmar','srilanka','egypt', 'turkey'],\n",
    "            locationmode = 'country names',\n",
    "            colorscale= 'Portland',\n",
    "            text= ['IND','NEP','CHI','PAK','BAN','BHU', 'MYN','SLK', 'EGY', 'TUR'],\n",
    "            z=[1.0,2.0,3.0,4.0,5.0,6.0,7.0,8.0,9.0,10.0],\n",
    "            colorbar = {'title':'Country Colours', 'len':200,'lenmode':'pixels' })\n",
    "\n",
    "def handle_click(trace, points, state):\n",
    "    print(trace)\n",
    "    print(points)\n",
    "    print(trace.locations[points.point_inds[0]])\n",
    "\n",
    "col_map = go.Figure(data = [data])\n",
    "g = go.FigureWidget(col_map)\n",
    "g.data[0].on_click(handle_click)\n",
    "widgets.VBox([g])"
   ]
  },
  {
   "cell_type": "code",
   "execution_count": 10,
   "metadata": {},
   "outputs": [
    {
     "data": {
      "text/plain": [
       "plotly.graph_objs._figurewidget.FigureWidget"
      ]
     },
     "execution_count": 10,
     "metadata": {},
     "output_type": "execute_result"
    }
   ],
   "source": [
    "type(g)"
   ]
  }
 ],
 "metadata": {
  "kernelspec": {
   "display_name": "Python 3",
   "language": "python",
   "name": "python3"
  },
  "language_info": {
   "codemirror_mode": {
    "name": "ipython",
    "version": 3
   },
   "file_extension": ".py",
   "mimetype": "text/x-python",
   "name": "python",
   "nbconvert_exporter": "python",
   "pygments_lexer": "ipython3",
   "version": "3.7.4"
  }
 },
 "nbformat": 4,
 "nbformat_minor": 4
}